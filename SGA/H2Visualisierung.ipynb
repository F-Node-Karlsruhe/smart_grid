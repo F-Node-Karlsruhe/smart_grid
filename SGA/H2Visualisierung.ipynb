{
 "cells": [
  {
   "cell_type": "code",
   "execution_count": 1,
   "metadata": {},
   "outputs": [
    {
     "name": "stderr",
     "output_type": "stream",
     "text": [
      "/opt/anaconda3/lib/python3.7/site-packages/ipykernel_launcher.py:8: DeprecationWarning: Using Nominatim with the default \"geopy/1.20.0\" `user_agent` is strongly discouraged, as it violates Nominatim's ToS https://operations.osmfoundation.org/policies/nominatim/ and may possibly cause 403 and 429 HTTP errors. Please specify a custom `user_agent` with `Nominatim(user_agent=\"my-application\")` or by overriding the default `user_agent`: `geopy.geocoders.options.default_user_agent = \"my-application\"`. In geopy 2.0 this will become an exception.\n",
      "  \n"
     ]
    }
   ],
   "source": [
    "from keplergl import KeplerGl\n",
    "from geopy.geocoders import Nominatim\n",
    "import pandas as pd\n",
    "import time\n",
    "from geopy.exc import GeocoderTimedOut\n",
    "import datetime\n",
    "from decimal import Decimal\n",
    "geolocator=Nominatim(timeout=10)"
   ]
  },
  {
   "cell_type": "markdown",
   "metadata": {},
   "source": [
    "# Settings"
   ]
  },
  {
   "cell_type": "markdown",
   "metadata": {},
   "source": [
    "## File to import"
   ]
  },
  {
   "cell_type": "code",
   "execution_count": 2,
   "metadata": {},
   "outputs": [],
   "source": [
    "# Original file with station locations\n",
    "pathStations = \"./h2live_existing_FuelStations.txt\"\n",
    "\n",
    "# Old file with refueling sessions\n",
    "importListOfRefueling = \"./h2live_data_2019_10_23_00_00_56.txt\"\n",
    "\n",
    "# New file with all refueling sessions\n",
    "importCompleteListOfRefueling = \"./refuel_short_2.csv\""
   ]
  },
  {
   "cell_type": "markdown",
   "metadata": {},
   "source": [
    "## Created files"
   ]
  },
  {
   "cell_type": "code",
   "execution_count": 3,
   "metadata": {},
   "outputs": [],
   "source": [
    "# Path to export H2 stations with geo information\n",
    "exportPathCSV = \"./geoH2.csv\"\n",
    "\n",
    "# Path to import H2 stations with geo information\n",
    "importGeoH2 = \"./geoH2_v3.csv\"\n",
    "\n",
    "# Path to export complete file for Kepler\n",
    "exportPathInputKepler = \"./InputKepler.csv\"\n",
    "\n",
    "# Path to export complete file for Kepler\n",
    "exportPathCompleteInputKepler = \"./InputCompleteKepler.csv\""
   ]
  },
  {
   "cell_type": "markdown",
   "metadata": {},
   "source": [
    "# Import H2 Stations"
   ]
  },
  {
   "cell_type": "code",
   "execution_count": 4,
   "metadata": {},
   "outputs": [],
   "source": [
    "locationH2 = pd.read_csv(pathStations, sep= \";\")\n",
    "locationH2 = locationH2.loc[locationH2[\"country\"] == \"DE\"]"
   ]
  },
  {
   "cell_type": "code",
   "execution_count": 5,
   "metadata": {},
   "outputs": [
    {
     "data": {
      "text/html": [
       "<div>\n",
       "<style scoped>\n",
       "    .dataframe tbody tr th:only-of-type {\n",
       "        vertical-align: middle;\n",
       "    }\n",
       "\n",
       "    .dataframe tbody tr th {\n",
       "        vertical-align: top;\n",
       "    }\n",
       "\n",
       "    .dataframe thead th {\n",
       "        text-align: right;\n",
       "    }\n",
       "</style>\n",
       "<table border=\"1\" class=\"dataframe\">\n",
       "  <thead>\n",
       "    <tr style=\"text-align: right;\">\n",
       "      <th></th>\n",
       "      <th>id</th>\n",
       "      <th>town</th>\n",
       "      <th>road</th>\n",
       "      <th>number</th>\n",
       "      <th>plz</th>\n",
       "      <th>country</th>\n",
       "      <th>operator</th>\n",
       "    </tr>\n",
       "  </thead>\n",
       "  <tbody>\n",
       "    <tr>\n",
       "      <td>0</td>\n",
       "      <td>100</td>\n",
       "      <td>Aachen (Shell)</td>\n",
       "      <td>Prager Ring</td>\n",
       "      <td>106</td>\n",
       "      <td>52070</td>\n",
       "      <td>DE</td>\n",
       "      <td>H2 MOBILITY</td>\n",
       "    </tr>\n",
       "    <tr>\n",
       "      <td>9</td>\n",
       "      <td>111</td>\n",
       "      <td>Bad Rappenau (Autohof 24)</td>\n",
       "      <td>Buchäckerring</td>\n",
       "      <td>40</td>\n",
       "      <td>74906</td>\n",
       "      <td>DE</td>\n",
       "      <td>H2 MOBILITY</td>\n",
       "    </tr>\n",
       "    <tr>\n",
       "      <td>10</td>\n",
       "      <td>112</td>\n",
       "      <td>Bayreuth (Shell)</td>\n",
       "      <td>Christian-Ritter-von-Langheinrich</td>\n",
       "      <td>2</td>\n",
       "      <td>95448</td>\n",
       "      <td>DE</td>\n",
       "      <td>H2 MOBILITY</td>\n",
       "    </tr>\n",
       "    <tr>\n",
       "      <td>12</td>\n",
       "      <td>114</td>\n",
       "      <td>Berg bei Hof (Shell)</td>\n",
       "      <td>Sieggrubenstraße</td>\n",
       "      <td>5</td>\n",
       "      <td>95180</td>\n",
       "      <td>DE</td>\n",
       "      <td>H2 MOBILITY</td>\n",
       "    </tr>\n",
       "    <tr>\n",
       "      <td>13</td>\n",
       "      <td>116</td>\n",
       "      <td>Berlin - Heerstraße (TOTAL)</td>\n",
       "      <td>Heerstraße</td>\n",
       "      <td>37</td>\n",
       "      <td>14055</td>\n",
       "      <td>DE</td>\n",
       "      <td>H2 MOBILITY</td>\n",
       "    </tr>\n",
       "  </tbody>\n",
       "</table>\n",
       "</div>"
      ],
      "text/plain": [
       "     id                         town                               road  \\\n",
       "0   100               Aachen (Shell)                        Prager Ring   \n",
       "9   111    Bad Rappenau (Autohof 24)                      Buchäckerring   \n",
       "10  112             Bayreuth (Shell)  Christian-Ritter-von-Langheinrich   \n",
       "12  114         Berg bei Hof (Shell)                  Sieggrubenstraße    \n",
       "13  116  Berlin - Heerstraße (TOTAL)                         Heerstraße   \n",
       "\n",
       "   number    plz country     operator  \n",
       "0     106  52070      DE  H2 MOBILITY  \n",
       "9      40  74906      DE  H2 MOBILITY  \n",
       "10      2  95448      DE  H2 MOBILITY  \n",
       "12      5  95180      DE  H2 MOBILITY  \n",
       "13     37  14055      DE  H2 MOBILITY  "
      ]
     },
     "execution_count": 5,
     "metadata": {},
     "output_type": "execute_result"
    }
   ],
   "source": [
    "locationH2.head()"
   ]
  },
  {
   "cell_type": "code",
   "execution_count": 6,
   "metadata": {},
   "outputs": [
    {
     "name": "stdout",
     "output_type": "stream",
     "text": [
      "Aachen  Prager Ring 106\n",
      "(50.7921029, 6.1185974)\n",
      "Bad Rappenau  Buchäckerring 40\n",
      "(49.2120935, 9.0769819)\n",
      "Bayreuth  Christian-Ritter-von-Langheinrich 2\n",
      "(49.96278135, 11.6107850192525)\n",
      "Berg bei Hof  Sieggrubenstraße  5\n",
      "(50.37194885, 11.7886343857023)\n",
      "Berlin  Heerstraße 37\n",
      "(52.4925883, 13.5730593)\n",
      "Berlin  Heidestraße 19\n",
      "(52.5346916, 13.3645584)\n",
      "Berlin  Holzmarktstraße 36 - 42\n",
      "(52.5114331, 13.4288729)\n",
      "Berlin  Rothenbachstr.  1\n",
      "(52.5716016, 13.4296019)\n",
      "Berlin  Sachsendamm 90 - 92\n",
      "(52.4786467, 13.3550598)\n",
      "Bremen  Osterholzer Heerstraße 222\n",
      "(53.0577831, 8.9625129)\n",
      "Derching  Winterbruckenweg\t\t\t 53\n",
      "(48.4071187, 10.9513349204483)\n",
      "Dresden  Wiener Strasse 39\n",
      "(51.0365149, 13.7486437)\n",
      "Duisburg  Am Schlütershof  27\n",
      "(51.43819415, 6.73897718340605)\n",
      "Düsseldorf  Höherweg 202\n",
      "(51.2224356, 6.8203181)\n",
      "Düsseldorf  Oerschbachstraße 71\n",
      "(51.1893182, 6.8481428)\n",
      "Essen  Katernberger Str.\t\t 99\n",
      "(51.5031007, 7.0490885)\n",
      "Fellbach  Ohmstraße 25\n",
      "(48.82230215, 9.28537070224665)\n",
      "Frankfurt  Hanauer Landstr. 334\n",
      "(50.1232501, 8.74321703454232)\n",
      "Frankfurt  Industriepark Höchst Tor-Süd unknown streetnr\n",
      "Frechen  Kölner Straße 209\n",
      "(50.9147956, 6.8361793)\n",
      "Freiburg Fraunhofer ISE Station Heidenhofstraße 3\n",
      "Fürholzen West  BAB9 / Günzenhauser Straße  9\n",
      "Fürth  Hans-Vogel-Str.  55\n",
      "(49.4802092, 11.0095252)\n",
      "Geiselwind  Scheinfelder Straße 23\n",
      "(49.7661512, 10.4702085)\n",
      "Geisingen  Bodenseestraße 19\n",
      "(47.9171221, 8.66796350932853)\n",
      "Hagenow  Sudenhofer Strasse\t 2\n",
      "(53.4436638, 11.2126734)\n",
      "Halle / Saale Blücherstraße 7\n",
      "(51.48959165, 11.9412334061738)\n",
      "Hamburg  Bramfelder Chaussee 370\n",
      "(53.5934862, 10.0589728)\n",
      "Hamburg  Oberbaumbrücke 1\n",
      "(53.5469374, 10.0041271)\n",
      "Hamburg  Schnackenburgallee 12\n",
      "(53.5734658, 9.9193304)\n",
      "Handewitt  Lecker Chausee 36\n",
      "Hannover  Industrieweg 30\n",
      "(52.4212225, 9.72739685)\n",
      "Hasbergen  Hauptstraße  107\n",
      "(52.2656391, 7.9643412)\n",
      "Herten Marie-Curie-Str/Albert-Einstein-Allee unknown streetnr\n",
      "Hirschberg  Goldbeckstraße  1\n",
      "Ingolstadt  Manchinger Straße 84\n",
      "(48.75283035, 11.4516332748833)\n",
      "Kamen  Schattweg 6\n",
      "(51.5722897, 7.6926267)\n",
      "Karlsruhe  Erlachseeweg 10\n",
      "(48.9856887, 8.447428)\n",
      "Koblenz  Am Rübenacher Wald 2\n",
      "(50.3466387, 7.5070666)\n",
      "Köln/Bonn Flughafen  Flughafen Köln/Bonn unknown streetnr\n",
      "Laatzen / Messe Hannover  Karlsruher Str. 12\n",
      "Leipzig  Poststr.  3 \n",
      "(51.41340665, 12.3077606180055)\n",
      "Leverkusen  Karl-Krekeler-Str. 2\n",
      "(51.0246298, 7.0058488)\n",
      "Limburg  Brüsseler Str. 14\n",
      "(50.3803168, 8.0927724)\n",
      "Lohfelden / Kassel  Alexander-von-Humbodt-Str. 1\n",
      "Magdeburg  Glindenberger Weg 3\n",
      "(52.2113498, 11.6707176927227)\n",
      "Metzingen  Auchterstraße 19\n",
      "Mönchengladbach  Odenkirchenerstr. 160\n",
      "(51.15891245, 6.44625115)\n",
      "Mülheim an der Ruhr  Humboldtring 3\n",
      "(51.43973535, 6.95458679472378)\n",
      "München  Detmoldstraße 1\n",
      "(48.19235505, 11.5646409845771)\n",
      "München  Erdinger Allee 2\n",
      "München  Kreillerstraße 220\n",
      "(48.121357, 11.663883)\n",
      "München  Ottobrunner Str.  116\n",
      "(48.1026803, 11.6254195)\n",
      "München  Verdistraße 96\n",
      "(48.1649558, 11.4673026)\n",
      "Münster  Kopenhagener Straße 19\n",
      "(51.8925152, 7.5841728)\n",
      "Nürnberg  Gleiwitzer Straße 220\n",
      "(49.41055565, 11.1462792788462)\n",
      "Offenbach  Kaiserleipromenade 5\n",
      "(50.106311, 8.73560534851791)\n",
      "Pentling  Ammerholz 3\n",
      "(48.9728822, 12.0647243)\n",
      "Pforzheim  Im Buchbusch 12\n",
      "(48.92043355, 8.72064329018156)\n",
      "Potsdam  Horstweg  53c\n",
      "(52.38207825, 13.0884129)\n",
      "Ratingen  Brachter Str. 36\n",
      "(51.2954049, 6.9149357)\n",
      "Rheda Bielefelder Str. 145\n",
      "(51.8490932, 8.32326831083794)\n",
      "Rostock  Tessiner Str. 98\n",
      "(54.0805767, 12.1890671)\n",
      "Schnelldorf  Rudolf-Diesel-Str.  1 \n",
      "(49.1710258, 10.2414089416858)\n",
      "Siegen Obere Leimbach unknown streetnr\n",
      "Sindelfingen  Neckarstraße 10\n",
      "(48.7032184, 9.0048578)\n",
      "Stuhr  Moordeicher Landstr.  84-86\n",
      "(53.0117287, 8.703734)\n",
      "Stuttgart  Flughafenstraße 70\n",
      "(48.6929656, 9.198638)\n",
      "Ulm  Helmholtzstraße 8\n",
      "(48.4256658, 9.9597545)\n",
      "Weiterstadt  Robert-Koch-Str. 1\n",
      "(49.8966051, 8.61317310537034)\n",
      "Wendlingen  Heinrich-Otto-Str. 2\n",
      "(48.6743797, 9.3717161)\n",
      "Wiesbaden  Borsigstraße 1\n",
      "(50.05681745, 8.3393322556147)\n",
      "Wolfsburg  Schulenburgallee 2\n",
      "(52.4462074, 10.8021074)\n",
      "Wuppertal  Schmiedestr. 91\n",
      "(51.30824565, 7.25263537488913)\n"
     ]
    }
   ],
   "source": [
    "geoH2 = pd.DataFrame(columns=[\"id\", \"lat\", \"long\", \"city\", \"road\", \"number\"])\n",
    "geolocator = Nominatim(user_agent=\"H2 Test2\")\n",
    "\n",
    "for i in locationH2[\"id\"].index:\n",
    "    \n",
    "    print(locationH2.at[i, \"town\"].split(\"(\")[0].split(\"-\")[0] + \" \" \n",
    "                              + locationH2.at[i, \"road\"] + \" \" \n",
    "                              + locationH2.at[i, \"number\"])\n",
    "    \n",
    "    # Try to get location, if TimedOut, try again\n",
    "    try:\n",
    "        location = geolocator.geocode(locationH2.at[i, \"town\"].split(\"(\")[0].split(\"-\")[0] + \" \" \n",
    "                              + locationH2.at[i, \"road\"] + \" \" \n",
    "                              + locationH2.at[i, \"number\"], \n",
    "                                 timeout = 20)\n",
    "    except GeocoderTimedOut as e:\n",
    "        print(\"Error: Second try\")\n",
    "        location = geolocator.geocode(locationH2.at[i, \"town\"].split(\"(\")[0].split(\"-\")[0] + \" \" \n",
    "                              + locationH2.at[i, \"road\"] + \" \" \n",
    "                              + locationH2.at[i, \"number\"], \n",
    "                                 timeout = 20)\n",
    "\n",
    "    # Try accesing the lat/long. If not available, use 0/0\n",
    "    try:\n",
    "        geoH2 = geoH2.append({\"id\": locationH2.at[i, \"id\"], \n",
    "                              \"lat\": location.latitude, \n",
    "                              \"long\": location.longitude,  \n",
    "                              \"city\": locationH2.at[i, \"town\"].split(\"(\")[0].split(\"-\")[0], \n",
    "                              \"road\": locationH2.at[i, \"road\"], \n",
    "                              \"number\": locationH2.at[i, \"number\"]}, ignore_index=True)\n",
    "        print((location.latitude, location.longitude))\n",
    "        \n",
    "    except AttributeError as a: \n",
    "        geoH2 = geoH2.append({\"id\": locationH2.at[i, \"id\"],\n",
    "                              \"lat\": 0, \n",
    "                              \"long\": 0,  \n",
    "                              \"city\": locationH2.at[i, \"town\"].split(\"(\")[0].split(\"-\")[0], \n",
    "                              \"road\": locationH2.at[i, \"road\"], \n",
    "                              \"number\": locationH2.at[i, \"number\"]}, ignore_index=True)\n",
    "\n",
    "    # Required by the API\n",
    "    time.sleep(1)\n",
    "\n",
    "# Export Results    \n",
    "geoH2.to_csv(path_or_buf = exportPathCSV, index = None, sep= \";\")"
   ]
  },
  {
   "cell_type": "markdown",
   "metadata": {},
   "source": [
    "# Create timeline (old)"
   ]
  },
  {
   "cell_type": "code",
   "execution_count": null,
   "metadata": {},
   "outputs": [],
   "source": []
  },
  {
   "cell_type": "markdown",
   "metadata": {},
   "source": [
    "# Create Timeline (new)"
   ]
  },
  {
   "cell_type": "code",
   "execution_count": 7,
   "metadata": {},
   "outputs": [],
   "source": [
    "listOfStations = pd.read_csv(importGeoH2, sep= \";\")\n",
    "completeListOfRefueling = pd.read_csv(importCompleteListOfRefueling, sep= \",\")\n",
    "\n",
    "inputKepler = pd.DataFrame(columns=[\"id\", \"time\", \"lat\", \"long\", \"city\", \"road\", \"number\", \"weight\", \"type\"])\n",
    "\n",
    "for index, row in completeListOfRefueling.iterrows():\n",
    "    \n",
    "    id = row[\"fk_Gas_Station_ID\"]\n",
    "    \n",
    "    if id in listOfStations[\"id\"].values:\n",
    "        inputKepler = inputKepler.append({\"id\": id,\n",
    "                                         \"time\": row[\"Timestamp\"],\n",
    "                                         \"lat\": listOfStations.loc[listOfStations['id'] == id].values[0][1],\n",
    "                                         \"long\": listOfStations.loc[listOfStations['id'] == id].values[0][2],\n",
    "                                         \"city\": listOfStations.loc[listOfStations['id'] == id].values[0][3], \n",
    "                                         \"road\": listOfStations.loc[listOfStations['id'] == id].values[0][4],\n",
    "                                         \"number\": listOfStations.loc[listOfStations['id'] == id].values[0][5],\n",
    "                                         \"weight\": row[\"Amount\"], \n",
    "                                         \"type\": row[\"fk_Status\"]}, ignore_index=True)\n",
    "        \n",
    "inputKepler.to_csv(path_or_buf = exportPathCompleteInputKepler, index = None, sep= \";\")"
   ]
  },
  {
   "cell_type": "markdown",
   "metadata": {},
   "source": [
    "# Visualization"
   ]
  },
  {
   "cell_type": "code",
   "execution_count": 8,
   "metadata": {},
   "outputs": [
    {
     "name": "stdout",
     "output_type": "stream",
     "text": [
      "User Guide: https://github.com/keplergl/kepler.gl/blob/master/docs/keplergl-jupyter/user-guide.md\n"
     ]
    }
   ],
   "source": [
    "map_1 = KeplerGl(height=500)\n",
    "\n",
    "h2_stations = pd.read_csv(exportPathCompleteInputKepler, sep=\";\")\n",
    "map_1.add_data(data=h2_stations, name='H2 Stationen')"
   ]
  },
  {
   "cell_type": "code",
   "execution_count": 10,
   "metadata": {
    "scrolled": true
   },
   "outputs": [
    {
     "data": {
      "application/vnd.jupyter.widget-view+json": {
       "model_id": "d70a38f7503e4e8cb542e5b23c08ffcd",
       "version_major": 2,
       "version_minor": 0
      },
      "text/plain": [
       "KeplerGl(config={'version': 'v1', 'config': {'visState': {'filters': [], 'layers': [], 'interactionConfig': {'…"
      ]
     },
     "metadata": {},
     "output_type": "display_data"
    }
   ],
   "source": [
    "map_1"
   ]
  },
  {
   "cell_type": "code",
   "execution_count": 11,
   "metadata": {},
   "outputs": [],
   "source": [
    "config = map_1.config"
   ]
  },
  {
   "cell_type": "code",
   "execution_count": 12,
   "metadata": {},
   "outputs": [
    {
     "name": "stdout",
     "output_type": "stream",
     "text": [
      "User Guide: https://github.com/keplergl/kepler.gl/blob/master/docs/keplergl-jupyter/user-guide.md\n"
     ]
    }
   ],
   "source": [
    "map_2_2weeks = KeplerGl(height=500, data={\"H2 Stationen\": h2_stations}, config=config)"
   ]
  },
  {
   "cell_type": "code",
   "execution_count": 13,
   "metadata": {},
   "outputs": [
    {
     "data": {
      "application/vnd.jupyter.widget-view+json": {
       "model_id": "9ab6689ad03c4c498a92b661c5033d87",
       "version_major": 2,
       "version_minor": 0
      },
      "text/plain": [
       "KeplerGl(config={'version': 'v1', 'config': {'visState': {'filters': [], 'layers': [], 'interactionConfig': {'…"
      ]
     },
     "metadata": {},
     "output_type": "display_data"
    }
   ],
   "source": [
    "map_2_2weeks"
   ]
  },
  {
   "cell_type": "code",
   "execution_count": 16,
   "metadata": {},
   "outputs": [
    {
     "name": "stdout",
     "output_type": "stream",
     "text": [
      "Map saved to hydrogen_map_two_weeks_3.html!\n"
     ]
    }
   ],
   "source": [
    "map_2_2weeks.save_to_html(file_name='hydrogen_map_two_weeks_3.html')"
   ]
  },
  {
   "cell_type": "markdown",
   "metadata": {},
   "source": [
    "# Geo Locator"
   ]
  },
  {
   "cell_type": "code",
   "execution_count": 17,
   "metadata": {},
   "outputs": [],
   "source": [
    "geolocator = Nominatim(user_agent=\"specify_your_app_name_here\")\n",
    "location = geolocator.geocode(\"Bremen Osterholzer Heerstraße 222\", timeout = 10)"
   ]
  },
  {
   "cell_type": "code",
   "execution_count": 18,
   "metadata": {},
   "outputs": [
    {
     "name": "stdout",
     "output_type": "stream",
     "text": [
      "(53.0577831, 8.9625129)\n"
     ]
    }
   ],
   "source": [
    "print((location.latitude, location.longitude))"
   ]
  },
  {
   "cell_type": "code",
   "execution_count": null,
   "metadata": {},
   "outputs": [],
   "source": []
  }
 ],
 "metadata": {
  "kernelspec": {
   "display_name": "Python 3",
   "language": "python",
   "name": "python3"
  },
  "language_info": {
   "codemirror_mode": {
    "name": "ipython",
    "version": 3
   },
   "file_extension": ".py",
   "mimetype": "text/x-python",
   "name": "python",
   "nbconvert_exporter": "python",
   "pygments_lexer": "ipython3",
   "version": "3.7.4"
  }
 },
 "nbformat": 4,
 "nbformat_minor": 4
}
