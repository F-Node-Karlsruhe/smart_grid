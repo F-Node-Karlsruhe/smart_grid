{
 "cells": [
  {
   "cell_type": "code",
   "execution_count": 1,
   "metadata": {},
   "outputs": [],
   "source": [
    "from keplergl import KeplerGl\n",
    "import pandas as pd"
   ]
  },
  {
   "cell_type": "code",
   "execution_count": 72,
   "metadata": {},
   "outputs": [],
   "source": [
    "'''\n",
    "Define paths and parameters\n",
    "'''\n",
    "DATA_PATH = './17_18.csv'\n",
    "\n",
    "GEO_DATA_PATH = './country_lat_long.csv'\n",
    "\n",
    "RESAMPLE_INTERVAL = '6H'\n",
    "\n",
    "TIMESPAN = (pd.Timestamp(2017, 1, 1),pd.Timestamp(2017, 1, 7))\n",
    "\n",
    "COUNTRIES = ['nl', 'lu', 'fr', 'ch', 'au', 'cz', 'pl', 'dk', 'sw']"
   ]
  },
  {
   "cell_type": "code",
   "execution_count": 73,
   "metadata": {},
   "outputs": [
    {
     "name": "stdout",
     "output_type": "stream",
     "text": [
      "       country       long        lat\n",
      "0    nl_import   5.387827  52.156113\n",
      "1    nl_export   6.387827  52.156113\n",
      "2    lu_import   6.103210  49.745998\n",
      "3    lu_export   7.103210  49.745998\n",
      "4    fr_import   2.398782  47.081013\n",
      "5    fr_export   3.398782  47.081013\n",
      "6    ch_import   8.400650  46.819950\n",
      "7    ch_export   9.400650  46.819950\n",
      "8    au_import  14.322770  47.554008\n",
      "9    au_export  15.322770  47.554008\n",
      "10   cz_import  15.781199  50.034309\n",
      "11   cz_export  16.781199  50.034309\n",
      "12   pl_import  19.455982  51.759247\n",
      "13   pl_export  20.455982  51.759247\n",
      "14   dk_import   8.973180  56.138481\n",
      "15   dk_export   8.973180  56.138481\n",
      "16   sw_import  15.621373  58.410809\n",
      "17   sw_export  16.621373  58.410809\n",
      "18  net_export   9.494630  51.318729\n"
     ]
    }
   ],
   "source": [
    "# load dataset\n",
    "DATASET = pd.read_csv(DATA_PATH, sep=';')\n",
    "\n",
    "# replace Datum Uhrzeit with proper timestamp as index\n",
    "DATASET['timestamp'] = DATASET.Datum.map(str) + ' ' + DATASET.Uhrzeit\n",
    "DATASET = DATASET.drop(['Uhrzeit', 'Datum'], axis=1)\n",
    "DATASET.set_index('timestamp', inplace=True)\n",
    "# transform to time series\n",
    "DATASET.index = pd.to_datetime(DATASET.index)\n",
    "DATASET = DATASET.apply(pd.to_numeric, errors='coerce')\n",
    "DATASET.fillna(0, inplace=True)\n",
    "\n",
    "DATASET = DATASET[TIMESPAN[0]:TIMESPAN[1]]\n",
    "\n",
    "# load geo data\n",
    "GEO_DATA = pd.read_csv(GEO_DATA_PATH, sep=';')\n",
    "print(GEO_DATA)"
   ]
  },
  {
   "cell_type": "code",
   "execution_count": 74,
   "metadata": {},
   "outputs": [
    {
     "data": {
      "text/plain": [
       "'\\nTest functions\\n'"
      ]
     },
     "execution_count": 74,
     "metadata": {},
     "output_type": "execute_result"
    }
   ],
   "source": [
    "'''\n",
    "Define data operation functions\n",
    "'''\n",
    "\n",
    "def shrinkIntervalMean(data, interval):\n",
    "    '''\n",
    "    returns the resampled dataset with the mean of the timestamp values in the given interval, \n",
    "    e.g. '10H' for 10 hour intervals\n",
    "    '''\n",
    "    return data.resample(interval).mean()\n",
    "\n",
    "def toKeplerData(dataset, geodata):\n",
    "    '''\n",
    "    returns the given time series with each column as a distinct timestamp \n",
    "    in the series with the specific lat/lang attached\n",
    "    '''\n",
    "    series = pd.DataFrame()\n",
    "    # columns = list(dataset.columns)\n",
    "    for index, row in dataset.iterrows():\n",
    "        for country in COUNTRIES:\n",
    "            geo_ex = geodata.loc[geodata['country'] == country + '_export']\n",
    "            geo_im = geodata.loc[geodata['country'] == country + '_import']\n",
    "            newTimestamp = pd.DataFrame({'value_im':row[country + '_import'],'lat_im':geo_im.iloc[0]['lat'],\n",
    "                                         'long_im':geo_im.iloc[0]['long'],\n",
    "                                        'value_ex':row[country + '_export'],'lat_ex':geo_ex.iloc[0]['lat'],\n",
    "                                         'long_ex':geo_ex.iloc[0]['long']},\n",
    "                                        index=[index])\n",
    "            \n",
    "            series = series.append(newTimestamp)\n",
    "\n",
    "\n",
    "    return series\n",
    "\n",
    "'''\n",
    "Test functions\n",
    "'''\n",
    "#DATASET = shrinkTimeGran(DATASET, '5H')\n",
    "#DATASET = shrinkIntervalMean(DATASET, '8H')\n",
    "#print(toKeplerData(DATASET, GEO_DATA).head(5))"
   ]
  },
  {
   "cell_type": "code",
   "execution_count": 75,
   "metadata": {},
   "outputs": [],
   "source": [
    "'''\n",
    "Data preparation\n",
    "'''\n",
    "\n",
    "# reduce time series granularity to 1 Day\n",
    "DATASET = shrinkIntervalMean(DATASET, RESAMPLE_INTERVAL)\n",
    "\n",
    "series = toKeplerData(DATASET, GEO_DATA)\n",
    "\n",
    "series.to_csv(r'geo_data_' + RESAMPLE_INTERVAL +'.csv')"
   ]
  },
  {
   "cell_type": "code",
   "execution_count": 76,
   "metadata": {
    "scrolled": false
   },
   "outputs": [
    {
     "name": "stdout",
     "output_type": "stream",
     "text": [
      "User Guide: https://github.com/keplergl/kepler.gl/blob/master/docs/keplergl-jupyter/user-guide.md\n"
     ]
    },
    {
     "data": {
      "application/vnd.jupyter.widget-view+json": {
       "model_id": "08c4a9204fc7491f97c4cbbfee79a2ac",
       "version_major": 2,
       "version_minor": 0
      },
      "text/plain": [
       "KeplerGl(data={'Strom Im-Export': {'index': [0, 1, 2, 3, 4, 5, 6, 7, 8, 9, 10, 11, 12, 13, 14, 15, 16, 17, 18,…"
      ]
     },
     "metadata": {},
     "output_type": "display_data"
    }
   ],
   "source": [
    "'''\n",
    "- Define Geo Data Location for data visualization\n",
    "- Welches Format brauchen die Geo-Daten?\n",
    "- Wo bekommen wir die Daten her?\n",
    "- Wie macht man die Balken und Blasen mit kepler?\n",
    "\n",
    "https://www.latlong.net\n",
    "'''\n",
    "\n",
    "german_electricity_map = KeplerGl(height=500)\n",
    "\n",
    "im_export_data = pd.read_csv('./geo_data_' + RESAMPLE_INTERVAL +'.csv', sep=\",\")\n",
    "\n",
    "german_electricity_map.add_data(data=im_export_data, name='Strom Im-Export')\n",
    "\n",
    "german_electricity_map"
   ]
  },
  {
   "cell_type": "code",
   "execution_count": 77,
   "metadata": {},
   "outputs": [],
   "source": [
    "'''\n",
    "Save config\n",
    "'''\n",
    "\n",
    "map_config = german_electricity_map.config\n"
   ]
  },
  {
   "cell_type": "code",
   "execution_count": 70,
   "metadata": {
    "scrolled": true
   },
   "outputs": [
    {
     "name": "stdout",
     "output_type": "stream",
     "text": [
      "Map saved to german_electricity_map.html!\n"
     ]
    }
   ],
   "source": [
    "german_electricity_map.save_to_html(file_name='german_electricity_map.html')\n",
    "map_config = german_electricity_map.config"
   ]
  },
  {
   "cell_type": "code",
   "execution_count": 44,
   "metadata": {},
   "outputs": [
    {
     "name": "stdout",
     "output_type": "stream",
     "text": [
      "User Guide: https://github.com/keplergl/kepler.gl/blob/master/docs/keplergl-jupyter/user-guide.md\n"
     ]
    },
    {
     "data": {
      "application/vnd.jupyter.widget-view+json": {
       "model_id": "e95e1774187a4804bc08a9ebe84d1d77",
       "version_major": 2,
       "version_minor": 0
      },
      "text/plain": [
       "KeplerGl(config={'version': 'v1', 'config': {'visState': {'filters': [{'dataId': 'Strom Import/Export', 'id': …"
      ]
     },
     "metadata": {},
     "output_type": "display_data"
    }
   ],
   "source": [
    "import_export_data = pd.read_csv(\"./geo_data_23H.csv\", sep=\",\")\n",
    "\n",
    "german_electricity_map_2 = KeplerGl(height=500, data={\"Strom Import/Export\": im_export_data}, config=map_config)\n",
    "#german_electricity_map_2.save_to_html(file_name='german_electricity_map_2.html')\n",
    "german_electricity_map_2"
   ]
  },
  {
   "cell_type": "code",
   "execution_count": null,
   "metadata": {},
   "outputs": [],
   "source": []
  }
 ],
 "metadata": {
  "kernelspec": {
   "display_name": "Python 3",
   "language": "python",
   "name": "python3"
  },
  "language_info": {
   "codemirror_mode": {
    "name": "ipython",
    "version": 3
   },
   "file_extension": ".py",
   "mimetype": "text/x-python",
   "name": "python",
   "nbconvert_exporter": "python",
   "pygments_lexer": "ipython3",
   "version": "3.7.4"
  }
 },
 "nbformat": 4,
 "nbformat_minor": 2
}
