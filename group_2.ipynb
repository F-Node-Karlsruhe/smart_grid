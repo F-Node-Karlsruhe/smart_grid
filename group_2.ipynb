{
 "cells": [
  {
   "cell_type": "code",
   "execution_count": 1,
   "metadata": {},
   "outputs": [],
   "source": [
    "from keplergl import KeplerGl\n",
    "import pandas as pd"
   ]
  },
  {
   "cell_type": "code",
   "execution_count": 2,
   "metadata": {},
   "outputs": [],
   "source": [
    "'''\n",
    "Define paths and parameters\n",
    "Tim test\n",
    "Nina test\n",
    "'''\n",
    "DATA_PATH = './17_18.csv'"
   ]
  },
  {
   "cell_type": "code",
   "execution_count": 3,
   "metadata": {},
   "outputs": [
    {
     "name": "stdout",
     "output_type": "stream",
     "text": [
      "                 Kommerzieller Nettoexport[MWh]  Niederlande (Export)[MWh]  \\\n",
      "timestamp                                                                    \n",
      "01.01.2017 00:00                          9.516                      1.521   \n",
      "01.01.2017 01:00                          9.569                      1.365   \n",
      "01.01.2017 02:00                          9.283                      1.329   \n",
      "01.01.2017 03:00                          9.379                      1.203   \n",
      "01.01.2017 04:00                          8.897                      1.191   \n",
      "\n",
      "                 Niederlande (Import)[MWh]  Schweiz (Export)[MWh]  \\\n",
      "timestamp                                                           \n",
      "01.01.2017 00:00                        -2                    1.2   \n",
      "01.01.2017 01:00                        -2                    1.2   \n",
      "01.01.2017 02:00                        -2                    1.2   \n",
      "01.01.2017 03:00                        -2                    1.2   \n",
      "01.01.2017 04:00                        -2                    1.2   \n",
      "\n",
      "                 Schweiz (Import)[MWh]  Dänemark (Export)[MWh]  \\\n",
      "timestamp                                                        \n",
      "01.01.2017 00:00                    -0                     0.0   \n",
      "01.01.2017 01:00                    -0                     0.0   \n",
      "01.01.2017 02:00                    -0                     0.0   \n",
      "01.01.2017 03:00                    -0                     0.0   \n",
      "01.01.2017 04:00                    -0                     0.0   \n",
      "\n",
      "                 Dänemark (Import)[MWh]  Tschechien (Export)[MWh]  \\\n",
      "timestamp                                                           \n",
      "01.01.2017 00:00                   -585                      37.0   \n",
      "01.01.2017 01:00                   -585                      37.0   \n",
      "01.01.2017 02:00                   -585                      37.0   \n",
      "01.01.2017 03:00                   -585                      67.0   \n",
      "01.01.2017 04:00                   -585                     161.0   \n",
      "\n",
      "                 Tschechien (Import)[MWh]  Luxemburg (Export)[MWh]  \\\n",
      "timestamp                                                            \n",
      "01.01.2017 00:00                   -2.027                      433   \n",
      "01.01.2017 01:00                   -2.018                      413   \n",
      "01.01.2017 02:00                   -1.953                      396   \n",
      "01.01.2017 03:00                   -1.892                      386   \n",
      "01.01.2017 04:00                   -1.931                      382   \n",
      "\n",
      "                 Luxemburg (Import)[MWh] Schweden (Export)[MWh]  \\\n",
      "timestamp                                                         \n",
      "01.01.2017 00:00                      -6                      2   \n",
      "01.01.2017 01:00                      -6                      2   \n",
      "01.01.2017 02:00                      -6                      2   \n",
      "01.01.2017 03:00                      -5                      2   \n",
      "01.01.2017 04:00                      -6                      2   \n",
      "\n",
      "                 Schweden (Import)[MWh]  Österreich (Export)[MWh]  \\\n",
      "timestamp                                                           \n",
      "01.01.2017 00:00                     -0                     6.799   \n",
      "01.01.2017 01:00                     -0                     6.963   \n",
      "01.01.2017 02:00                     -0                     6.726   \n",
      "01.01.2017 03:00                     -0                     6.681   \n",
      "01.01.2017 04:00                     -0                     6.626   \n",
      "\n",
      "                 Österreich (Import)[MWh]  Frankreich (Export)[MWh]  \\\n",
      "timestamp                                                             \n",
      "01.01.2017 00:00                   -1.125                     4.079   \n",
      "01.01.2017 01:00                   -1.216                     4.235   \n",
      "01.01.2017 02:00                   -1.248                     4.271   \n",
      "01.01.2017 03:00                   -1.172                     4.396   \n",
      "01.01.2017 04:00                   -1.590                     4.410   \n",
      "\n",
      "                 Frankreich (Import)[MWh]  Polen (Export)[MWh]  \\\n",
      "timestamp                                                        \n",
      "01.01.2017 00:00                       -0                    0   \n",
      "01.01.2017 01:00                       -0                    0   \n",
      "01.01.2017 02:00                       -0                    0   \n",
      "01.01.2017 03:00                       -0                    0   \n",
      "01.01.2017 04:00                       -0                    0   \n",
      "\n",
      "                 Polen (Import)[MWh]  \n",
      "timestamp                             \n",
      "01.01.2017 00:00                -810  \n",
      "01.01.2017 01:00                -819  \n",
      "01.01.2017 02:00                -884  \n",
      "01.01.2017 03:00                -900  \n",
      "01.01.2017 04:00                -961  \n"
     ]
    }
   ],
   "source": [
    "# load dataset\n",
    "DATASET = pd.read_csv(DATA_PATH, sep=';')\n",
    "\n",
    "# replace Datum Uhrzeit with proper timestamp as index\n",
    "DATASET['timestamp'] = DATASET.Datum.map(str) + ' ' + DATASET.Uhrzeit\n",
    "DATASET = DATASET.drop(['Uhrzeit', 'Datum'], axis=1)\n",
    "DATASET.set_index('timestamp', inplace=True)\n",
    "print(DATASET.head(5))"
   ]
  },
  {
   "cell_type": "code",
   "execution_count": null,
   "metadata": {},
   "outputs": [],
   "source": [
    "'''\n",
    "Define data operation functions\n",
    "'''\n",
    "\n",
    "def shrinkTimeGran(dataset, timeInterval):\n",
    "    return None"
   ]
  },
  {
   "cell_type": "code",
   "execution_count": 4,
   "metadata": {},
   "outputs": [
    {
     "name": "stdout",
     "output_type": "stream",
     "text": [
      "User Guide: https://github.com/keplergl/kepler.gl/blob/master/docs/keplergl-jupyter/user-guide.md\n"
     ]
    },
    {
     "data": {
      "application/vnd.jupyter.widget-view+json": {
       "model_id": "90ea9394abb744279538a6466b12c41b",
       "version_major": 2,
       "version_minor": 0
      },
      "text/plain": [
       "KeplerGl(data={'Strom Import/Export': {'index': [0, 1, 2, 3], 'columns': ['timestamp', 'lat', 'long', 'weight'…"
      ]
     },
     "metadata": {},
     "output_type": "display_data"
    }
   ],
   "source": [
    "'''\n",
    "- Define Geo Data Location for data visualization\n",
    "- Welches Format brauchen die Geo-Daten?\n",
    "- Wo bekommen wir die Daten her?\n",
    "- Wie macht man die Balken und Blasen mit kepler?\n",
    "\n",
    "https://www.latlong.net\n",
    "'''\n",
    "\n",
    "map_1 = KeplerGl(height=500)\n",
    "\n",
    "import_export_data = pd.read_csv(\"./test_data.csv\", sep=\";\")\n",
    "map_1.add_data(data=import_export_data, name='Strom Import/Export')\n",
    "\n",
    "map_1"
   ]
  },
  {
   "cell_type": "code",
   "execution_count": null,
   "metadata": {},
   "outputs": [],
   "source": []
  }
 ],
 "metadata": {
  "kernelspec": {
   "display_name": "Python 3",
   "language": "python",
   "name": "python3"
  },
  "language_info": {
   "codemirror_mode": {
    "name": "ipython",
    "version": 3
   },
   "file_extension": ".py",
   "mimetype": "text/x-python",
   "name": "python",
   "nbconvert_exporter": "python",
   "pygments_lexer": "ipython3",
   "version": "3.7.4"
  }
 },
 "nbformat": 4,
 "nbformat_minor": 2
}
