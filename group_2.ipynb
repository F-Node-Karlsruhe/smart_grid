{
 "cells": [
  {
   "cell_type": "code",
   "execution_count": null,
   "metadata": {},
   "outputs": [],
   "source": [
    "from keplergl import KeplerGl\n",
    "import pandas as pd"
   ]
  },
  {
   "cell_type": "code",
   "execution_count": null,
   "metadata": {},
   "outputs": [],
   "source": [
    "'''\n",
    "Define paths and parameters\n",
    "'''\n",
    "DATA_PATH = './17_18.csv'\n",
    "\n",
    "GEO_DATA_PATH = './country_lat_long.csv'"
   ]
  },
  {
   "cell_type": "code",
   "execution_count": null,
   "metadata": {},
   "outputs": [],
   "source": [
    "# load dataset\n",
    "DATASET = pd.read_csv(DATA_PATH, sep=';')\n",
    "\n",
    "# replace Datum Uhrzeit with proper timestamp as index\n",
    "DATASET['timestamp'] = DATASET.Datum.map(str) + ' ' + DATASET.Uhrzeit\n",
    "DATASET = DATASET.drop(['Uhrzeit', 'Datum'], axis=1)\n",
    "DATASET.set_index('timestamp', inplace=True)\n",
    "# transform to time series\n",
    "DATASET.index = pd.to_datetime(DATASET.index)\n",
    "DATASET = DATASET.apply(pd.to_numeric, errors='coerce')\n",
    "DATASET.fillna(0, inplace=True)\n",
    "\n",
    "# load geo data\n",
    "GEO_DATA = pd.read_csv(GEO_DATA_PATH, sep=';')\n",
    "print(GEO_DATA)"
   ]
  },
  {
   "cell_type": "code",
   "execution_count": null,
   "metadata": {},
   "outputs": [],
   "source": [
    "'''\n",
    "Define data operation functions\n",
    "'''\n",
    "\n",
    "def shrinkIntervalMean(data, interval):\n",
    "    '''\n",
    "    returns the resampled dataset with the mean of the timestamp values in the given interval, \n",
    "    e.g. '10H' for 10 hour intervals\n",
    "    '''\n",
    "    return data.resample(interval).mean()\n",
    "\n",
    "def toKeplerData(dataset, geodata):\n",
    "    '''\n",
    "    returns the given time series with each column as a distinct timestamp \n",
    "    in the series with the specific lat/lang attached\n",
    "    '''\n",
    "    series = pd.DataFrame()\n",
    "    columns = list(dataset.columns)\n",
    "    for index, row in dataset.iterrows():\n",
    "        for col in columns:\n",
    "            geo = geodata.loc[geodata['country'] == col]\n",
    "            newTimestamp = pd.DataFrame({'value':row[col],'lat':geo.iloc[0]['lat'],\n",
    "                                         'long':geo.iloc[0]['long']},index=[index])\n",
    "            series = series.append(newTimestamp)\n",
    "\n",
    "    return series\n",
    "\n",
    "'''\n",
    "Test functions\n",
    "'''\n",
    "DATASET = shrinkTimeGran(DATASET, '5H')\n",
    "print(toKeplerData(DATASET, GEO_DATA).head(5))"
   ]
  },
  {
   "cell_type": "code",
   "execution_count": null,
   "metadata": {},
   "outputs": [],
   "source": [
    "'''\n",
    "Data preparation\n",
    "'''\n",
    "\n",
    "# reduce time series granularity to 5 hours\n",
    "DATASET = shrinkTimeGran(DATASET, '5H')"
   ]
  },
  {
   "cell_type": "code",
   "execution_count": 4,
   "metadata": {},
   "outputs": [
    {
     "name": "stdout",
     "output_type": "stream",
     "text": [
      "User Guide: https://github.com/keplergl/kepler.gl/blob/master/docs/keplergl-jupyter/user-guide.md\n"
     ]
    },
    {
     "data": {
      "application/vnd.jupyter.widget-view+json": {
       "model_id": "90ea9394abb744279538a6466b12c41b",
       "version_major": 2,
       "version_minor": 0
      },
      "text/plain": [
       "KeplerGl(data={'Strom Import/Export': {'index': [0, 1, 2, 3], 'columns': ['timestamp', 'lat', 'long', 'weight'…"
      ]
     },
     "metadata": {},
     "output_type": "display_data"
    }
   ],
   "source": [
    "'''\n",
    "- Define Geo Data Location for data visualization\n",
    "- Welches Format brauchen die Geo-Daten?\n",
    "- Wo bekommen wir die Daten her?\n",
    "- Wie macht man die Balken und Blasen mit kepler?\n",
    "\n",
    "https://www.latlong.net\n",
    "'''\n",
    "\n",
    "map_1 = KeplerGl(height=500)\n",
    "\n",
    "import_export_data = pd.read_csv(\"./test_data.csv\", sep=\";\")\n",
    "map_1.add_data(data=import_export_data, name='Strom Import/Export')\n",
    "\n",
    "map_1"
   ]
  },
  {
   "cell_type": "code",
   "execution_count": null,
   "metadata": {},
   "outputs": [],
   "source": []
  }
 ],
 "metadata": {
  "kernelspec": {
   "display_name": "Python 3",
   "language": "python",
   "name": "python3"
  },
  "language_info": {
   "codemirror_mode": {
    "name": "ipython",
    "version": 3
   },
   "file_extension": ".py",
   "mimetype": "text/x-python",
   "name": "python",
   "nbconvert_exporter": "python",
   "pygments_lexer": "ipython3",
   "version": "3.7.1"
  }
 },
 "nbformat": 4,
 "nbformat_minor": 2
}
