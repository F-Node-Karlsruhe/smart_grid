{
 "cells": [
  {
   "cell_type": "code",
   "execution_count": 3,
   "metadata": {},
   "outputs": [],
   "source": [
    "from keplergl import KeplerGl\n",
    "import pandas as pd"
   ]
  },
  {
   "cell_type": "code",
   "execution_count": 4,
   "metadata": {},
   "outputs": [],
   "source": [
    "'''\n",
    "Define paths and parameters\n",
    "'''\n",
    "DATA_PATH = './17_18.csv'"
   ]
  },
  {
   "cell_type": "code",
   "execution_count": 6,
   "metadata": {},
   "outputs": [
    {
     "name": "stdout",
     "output_type": "stream",
     "text": [
      "       Datum Uhrzeit Kommerzieller Nettoexport[MWh]  \\\n",
      "0 2017-01-01   00:00                          9.516   \n",
      "1 2017-01-01   01:00                          9.569   \n",
      "2 2017-01-01   02:00                          9.283   \n",
      "3 2017-01-01   03:00                          9.379   \n",
      "4 2017-01-01   04:00                          8.897   \n",
      "\n",
      "   Niederlande (Export)[MWh] Niederlande (Import)[MWh]  Schweiz (Export)[MWh]  \\\n",
      "0                      1.521                        -2                    1.2   \n",
      "1                      1.365                        -2                    1.2   \n",
      "2                      1.329                        -2                    1.2   \n",
      "3                      1.203                        -2                    1.2   \n",
      "4                      1.191                        -2                    1.2   \n",
      "\n",
      "  Schweiz (Import)[MWh]  Dänemark (Export)[MWh] Dänemark (Import)[MWh]  \\\n",
      "0                    -0                     0.0                   -585   \n",
      "1                    -0                     0.0                   -585   \n",
      "2                    -0                     0.0                   -585   \n",
      "3                    -0                     0.0                   -585   \n",
      "4                    -0                     0.0                   -585   \n",
      "\n",
      "   Tschechien (Export)[MWh]  ... Luxemburg (Export)[MWh]  \\\n",
      "0                      37.0  ...                     433   \n",
      "1                      37.0  ...                     413   \n",
      "2                      37.0  ...                     396   \n",
      "3                      67.0  ...                     386   \n",
      "4                     161.0  ...                     382   \n",
      "\n",
      "   Luxemburg (Import)[MWh] Schweden (Export)[MWh] Schweden (Import)[MWh]  \\\n",
      "0                       -6                      2                     -0   \n",
      "1                       -6                      2                     -0   \n",
      "2                       -6                      2                     -0   \n",
      "3                       -5                      2                     -0   \n",
      "4                       -6                      2                     -0   \n",
      "\n",
      "  Österreich (Export)[MWh]  Österreich (Import)[MWh] Frankreich (Export)[MWh]  \\\n",
      "0                    6.799                    -1.125                    4.079   \n",
      "1                    6.963                    -1.216                    4.235   \n",
      "2                    6.726                    -1.248                    4.271   \n",
      "3                    6.681                    -1.172                    4.396   \n",
      "4                    6.626                    -1.590                    4.410   \n",
      "\n",
      "   Frankreich (Import)[MWh] Polen (Export)[MWh]  Polen (Import)[MWh]  \n",
      "0                        -0                   0                 -810  \n",
      "1                        -0                   0                 -819  \n",
      "2                        -0                   0                 -884  \n",
      "3                        -0                   0                 -900  \n",
      "4                        -0                   0                 -961  \n",
      "\n",
      "[5 rows x 21 columns]\n"
     ]
    }
   ],
   "source": [
    "# load dataset\n",
    "DATASET = pd.read_csv(DATA_PATH, sep=';', parse_dates=['Datum'])\n",
    "print(DATASET.head(5))"
   ]
  },
  {
   "cell_type": "code",
   "execution_count": null,
   "metadata": {},
   "outputs": [],
   "source": []
  }
 ],
 "metadata": {
  "kernelspec": {
   "display_name": "Python 3",
   "language": "python",
   "name": "python3"
  },
  "language_info": {
   "codemirror_mode": {
    "name": "ipython",
    "version": 3
   },
   "file_extension": ".py",
   "mimetype": "text/x-python",
   "name": "python",
   "nbconvert_exporter": "python",
   "pygments_lexer": "ipython3",
   "version": "3.7.1"
  }
 },
 "nbformat": 4,
 "nbformat_minor": 2
}
