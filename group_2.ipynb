{
 "cells": [
  {
   "cell_type": "code",
   "execution_count": 1,
   "metadata": {},
   "outputs": [],
   "source": [
    "from keplergl import KeplerGl\n",
    "import pandas as pd"
   ]
  },
  {
   "cell_type": "code",
   "execution_count": 2,
   "metadata": {},
   "outputs": [],
   "source": [
    "'''\n",
    "Define paths and parameters\n",
    "'''\n",
    "DATA_PATH = './17_18.csv'\n",
    "\n",
    "GEO_DATA_PATH = './country_lat_long.csv'"
   ]
  },
  {
   "cell_type": "code",
   "execution_count": 3,
   "metadata": {},
   "outputs": [
    {
     "name": "stdout",
     "output_type": "stream",
     "text": [
      "       country       long        lat\n",
      "0    nl_import  52.208448   6.804434\n",
      "1    nl_export  51.938339   6.628553\n",
      "2    lu_import  49.945034   6.233296\n",
      "3    lu_export  49.604481   6.408965\n",
      "4    fr_import  49.089157   7.375149\n",
      "5    fr_export  48.684614   7.946076\n",
      "6    ch_import  47.629306   8.165664\n",
      "7    ch_export  47.629306   9.009500\n",
      "8    au_import  47.599681  12.206069\n",
      "9    au_export  47.954065  13.041866\n",
      "10   cz_import  49.290202  12.783043\n",
      "11   cz_export  50.001560  12.299951\n",
      "12   pl_import  52.342891  14.581793\n",
      "13   pl_export  52.019543  14.713545\n",
      "14   dk_import  54.769801   8.740771\n",
      "15   dk_export  54.769801   9.487368\n",
      "16   sw_import  55.098016  13.130464\n",
      "17   sw_export  55.072864  13.525799\n",
      "18  net_export  51.228388   9.707071\n"
     ]
    }
   ],
   "source": [
    "# load dataset\n",
    "DATASET = pd.read_csv(DATA_PATH, sep=';')\n",
    "\n",
    "# replace Datum Uhrzeit with proper timestamp as index\n",
    "DATASET['timestamp'] = DATASET.Datum.map(str) + ' ' + DATASET.Uhrzeit\n",
    "DATASET = DATASET.drop(['Uhrzeit', 'Datum'], axis=1)\n",
    "DATASET.set_index('timestamp', inplace=True)\n",
    "# transform to time series\n",
    "DATASET.index = pd.to_datetime(DATASET.index)\n",
    "DATASET = DATASET.apply(pd.to_numeric, errors='coerce')\n",
    "DATASET.fillna(0, inplace=True)\n",
    "\n",
    "# load geo data\n",
    "GEO_DATA = pd.read_csv(GEO_DATA_PATH, sep=';')\n",
    "print(GEO_DATA)"
   ]
  },
  {
   "cell_type": "code",
   "execution_count": 6,
   "metadata": {},
   "outputs": [
    {
     "name": "stdout",
     "output_type": "stream",
     "text": [
      "             value       lat       long\n",
      "2017-01-01  9.3288  9.707071  51.228388\n",
      "2017-01-01  1.3218  6.628553  51.938339\n",
      "2017-01-01 -2.0000  6.804434  52.208448\n",
      "2017-01-01  1.2000  9.009500  47.629306\n",
      "2017-01-01  0.0000  8.165664  47.629306\n"
     ]
    }
   ],
   "source": [
    "'''\n",
    "Define data operation functions\n",
    "'''\n",
    "\n",
    "def shrinkIntervalMean(data, interval):\n",
    "    '''\n",
    "    returns the resampled dataset with the mean of the timestamp values in the given interval, \n",
    "    e.g. '10H' for 10 hour intervals\n",
    "    '''\n",
    "    return data.resample(interval).mean()\n",
    "\n",
    "def toKeplerData(dataset, geodata):\n",
    "    '''\n",
    "    returns the given time series with each column as a distinct timestamp \n",
    "    in the series with the specific lat/lang attached\n",
    "    '''\n",
    "    series = pd.DataFrame()\n",
    "    columns = list(dataset.columns)\n",
    "    for index, row in dataset.iterrows():\n",
    "        for col in columns:\n",
    "            geo = geodata.loc[geodata['country'] == col]\n",
    "            newTimestamp = pd.DataFrame({'value':row[col],'lat':geo.iloc[0]['lat'],\n",
    "                                         'long':geo.iloc[0]['long']},index=[index])\n",
    "            series = series.append(newTimestamp)\n",
    "\n",
    "    return series\n",
    "\n",
    "'''\n",
    "Test functions\n",
    "'''\n",
    "#DATASET = shrinkTimeGran(DATASET, '5H')\n",
    "#print(toKeplerData(DATASET, GEO_DATA).head(5))"
   ]
  },
  {
   "cell_type": "code",
   "execution_count": 16,
   "metadata": {},
   "outputs": [],
   "source": [
    "'''\n",
    "Data preparation\n",
    "'''\n",
    "\n",
    "# reduce time series granularity to 1 Day\n",
    "DATASET = shrinkIntervalMean(DATASET, '23H')\n",
    "\n",
    "toKeplerData(DATASET, GEO_DATA).head(90).to_csv(r'geo_data_23H.csv')"
   ]
  },
  {
   "cell_type": "code",
   "execution_count": 18,
   "metadata": {
    "scrolled": false
   },
   "outputs": [
    {
     "name": "stdout",
     "output_type": "stream",
     "text": [
      "User Guide: https://github.com/keplergl/kepler.gl/blob/master/docs/keplergl-jupyter/user-guide.md\n"
     ]
    },
    {
     "data": {
      "application/vnd.jupyter.widget-view+json": {
       "model_id": "7291c2fe6b064790b23c5ce10d4a0d4f",
       "version_major": 2,
       "version_minor": 0
      },
      "text/plain": [
       "KeplerGl(data={'Strom Import/Export': {'index': [0, 1, 2, 3, 4, 5, 6, 7, 8, 9, 10, 11, 12, 13, 14, 15, 16, 17,…"
      ]
     },
     "metadata": {},
     "output_type": "display_data"
    }
   ],
   "source": [
    "'''\n",
    "- Define Geo Data Location for data visualization\n",
    "- Welches Format brauchen die Geo-Daten?\n",
    "- Wo bekommen wir die Daten her?\n",
    "- Wie macht man die Balken und Blasen mit kepler?\n",
    "\n",
    "https://www.latlong.net\n",
    "'''\n",
    "\n",
    "map_1 = KeplerGl(height=500)\n",
    "\n",
    "import_export_data = pd.read_csv(\"./geo_data_23H.csv\", sep=\",\")\n",
    "map_1.add_data(data=import_export_data, name='Strom Import/Export')\n",
    "\n",
    "map_1"
   ]
  },
  {
   "cell_type": "code",
   "execution_count": null,
   "metadata": {},
   "outputs": [],
   "source": []
  }
 ],
 "metadata": {
  "kernelspec": {
   "display_name": "Python 3",
   "language": "python",
   "name": "python3"
  },
  "language_info": {
   "codemirror_mode": {
    "name": "ipython",
    "version": 3
   },
   "file_extension": ".py",
   "mimetype": "text/x-python",
   "name": "python",
   "nbconvert_exporter": "python",
   "pygments_lexer": "ipython3",
   "version": "3.7.4"
  }
 },
 "nbformat": 4,
 "nbformat_minor": 2
}
