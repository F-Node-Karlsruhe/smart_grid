{
 "cells": [
  {
   "cell_type": "code",
   "execution_count": 1,
   "metadata": {},
   "outputs": [],
   "source": [
    "from keplergl import KeplerGl\n",
    "import pandas as pd"
   ]
  },
  {
   "cell_type": "code",
   "execution_count": 35,
   "metadata": {},
   "outputs": [],
   "source": [
    "'''\n",
    "Define paths and parameters\n",
    "'''\n",
    "DATA_PATH = './17_18.csv'\n",
    "\n",
    "GEO_DATA_PATH = './country_lat_long.csv'\n",
    "\n",
    "COUNTRIES = ['nl', 'lu', 'fr', 'ch', 'au', 'cz', 'pl', 'dk', 'sw']\n",
    "\n",
    "### Data for 1 Day\n",
    "RESAMPLE_INTERVAL = '1H'\n",
    "TIMESPAN = (pd.Timestamp(2017, 1, 1, 0),pd.Timestamp(2017, 1, 2, 0))\n",
    "\n",
    "### Data for one week\n",
    "#RESAMPLE_INTERVAL = '3H'\n",
    "#TIMESPAN = (pd.Timestamp(2017, 1, 1, 0),pd.Timestamp(2017, 1, 7, 0))\n",
    "\n",
    "### Data for one month\n",
    "#RESAMPLE_INTERVAL = '24H'\n",
    "#TIMESPAN = (pd.Timestamp(2017, 1, 1, 0),pd.Timestamp(2017, 2, 1, 0))\n",
    "\n",
    "### Data for one year\n",
    "#RESAMPLE_INTERVAL = '168H'\n",
    "#TIMESPAN = (pd.Timestamp(2017, 1, 1, 0),pd.Timestamp(2018, 1, 1, 0))"
   ]
  },
  {
   "cell_type": "code",
   "execution_count": 36,
   "metadata": {},
   "outputs": [
    {
     "name": "stdout",
     "output_type": "stream",
     "text": [
      "       country       long        lat\n",
      "0    nl_import   5.387827  52.156113\n",
      "1    nl_export   6.387827  52.156113\n",
      "2    lu_import   6.103210  49.745998\n",
      "3    lu_export   7.103210  49.745998\n",
      "4    fr_import   2.398782  47.081013\n",
      "5    fr_export   3.398782  47.081013\n",
      "6    ch_import   8.400650  46.819950\n",
      "7    ch_export   9.400650  46.819950\n",
      "8    au_import  14.322770  47.554008\n",
      "9    au_export  15.322770  47.554008\n",
      "10   cz_import  15.781199  50.034309\n",
      "11   cz_export  16.781199  50.034309\n",
      "12   pl_import  19.455982  51.759247\n",
      "13   pl_export  20.455982  51.759247\n",
      "14   dk_import   8.973180  56.138481\n",
      "15   dk_export   9.973180  56.138481\n",
      "16   sw_import  15.621373  58.410809\n",
      "17   sw_export  16.621373  58.410809\n",
      "18  net_export   9.494630  51.318729\n"
     ]
    }
   ],
   "source": [
    "# load dataset\n",
    "DATASET = pd.read_csv(DATA_PATH, sep=';')\n",
    "\n",
    "# replace Datum Uhrzeit with proper timestamp as index\n",
    "DATASET['timestamp'] = DATASET.Datum.map(str) + ' ' + DATASET.Uhrzeit\n",
    "DATASET = DATASET.drop(['Uhrzeit', 'Datum'], axis=1)\n",
    "DATASET.set_index('timestamp', inplace=True)\n",
    "# transform to time series\n",
    "DATASET.index = pd.to_datetime(DATASET.index)\n",
    "DATASET = DATASET.apply(pd.to_numeric, errors='coerce')\n",
    "DATASET.fillna(0, inplace=True)\n",
    "\n",
    "# load geo data\n",
    "GEO_DATA = pd.read_csv(GEO_DATA_PATH, sep=';')\n",
    "print(GEO_DATA)"
   ]
  },
  {
   "cell_type": "code",
   "execution_count": 37,
   "metadata": {},
   "outputs": [
    {
     "data": {
      "text/plain": [
       "'\\nTest functions\\n'"
      ]
     },
     "execution_count": 37,
     "metadata": {},
     "output_type": "execute_result"
    }
   ],
   "source": [
    "'''\n",
    "Define data operation functions\n",
    "'''\n",
    "\n",
    "def shrinkIntervalMean(data, interval):\n",
    "    '''\n",
    "    returns the resampled dataset with the mean of the timestamp values in the given interval, \n",
    "    e.g. '10H' for 10 hour intervals\n",
    "    '''\n",
    "    return data.resample(interval).mean()\n",
    "\n",
    "def toKeplerData(dataset, geodata):\n",
    "    '''\n",
    "    returns the given time series with each column as a distinct timestamp \n",
    "    in the series with the specific lat/lang attached\n",
    "    '''\n",
    "    series = pd.DataFrame()\n",
    "    # columns = list(dataset.columns)\n",
    "    for index, row in dataset.iterrows():\n",
    "        # not nice but efficient\n",
    "        if index == TIMESPAN[1]:\n",
    "            return series\n",
    "        for country in COUNTRIES:\n",
    "            geo_ex = geodata.loc[geodata['country'] == country + '_export']\n",
    "            geo_im = geodata.loc[geodata['country'] == country + '_import']\n",
    "            newTimestamp = pd.DataFrame({'value_im':row[country + '_import'],'lat_im':geo_im.iloc[0]['lat'],\n",
    "                                         'long_im':geo_im.iloc[0]['long'],\n",
    "                                        'value_ex':row[country + '_export'],'lat_ex':geo_ex.iloc[0]['lat'],\n",
    "                                         'long_ex':geo_ex.iloc[0]['long']},\n",
    "                                        index=[index])\n",
    "            \n",
    "            series = series.append(newTimestamp)\n",
    "            \n",
    "        net_geo = geodata.loc[geodata['country'] == 'net_export'].iloc[0]\n",
    "        \n",
    "        # Include data for net export\n",
    "        if row['net_export'] > 0:    \n",
    "            series = series.append(pd.DataFrame({'value_im':0,'lat_im':net_geo['lat'],\n",
    "                                         'long_im':net_geo['long'],\n",
    "                                        'value_ex':row['net_export'],'lat_ex':net_geo['lat'],\n",
    "                                         'long_ex':net_geo['long']},\n",
    "                                        index=[index]))\n",
    "        else:\n",
    "            series = series.append(pd.DataFrame({'value_im':row['net_export'],'lat_im':net_geo['lat'],\n",
    "                                         'long_im':net_geo['long'],\n",
    "                                        'value_ex':0,'lat_ex':net_geo['lat'],\n",
    "                                         'long_ex':net_geo['long']},\n",
    "                                        index=[index]))\n",
    "\n",
    "\n",
    "    return series\n",
    "\n",
    "'''\n",
    "Test functions\n",
    "'''\n",
    "#DATASET = shrinkTimeGran(DATASET, '5H')\n",
    "#DATASET = shrinkIntervalMean(DATASET, '8H')\n",
    "#print(toKeplerData(DATASET, GEO_DATA).head(5))"
   ]
  },
  {
   "cell_type": "code",
   "execution_count": 38,
   "metadata": {},
   "outputs": [],
   "source": [
    "'''\n",
    "Data preparation\n",
    "'''\n",
    "\n",
    "# reduce time series granularity to 1 Day\n",
    "DATASET = shrinkIntervalMean(DATASET, RESAMPLE_INTERVAL)\n",
    "series = toKeplerData(DATASET, GEO_DATA)\n",
    "\n",
    "'''\n",
    "Export data to csv\n",
    "'''\n",
    "series.to_csv(r'geo_data_' + RESAMPLE_INTERVAL +'.csv')"
   ]
  },
  {
   "cell_type": "code",
   "execution_count": 39,
   "metadata": {},
   "outputs": [],
   "source": [
    "'''\n",
    "Import data from csv and transform it for map\n",
    "'''\n",
    "\n",
    "map_data = pd.read_csv('./geo_data_' + RESAMPLE_INTERVAL +'.csv', sep=\",\", parse_dates=[0], index_col=0)[TIMESPAN[0]:TIMESPAN[1]]\n",
    "map_data['time'] = map_data.index.strftime('%Y-%m-%d %H:%M:%S')\n",
    "map_data.set_index('time', inplace=True, drop=False)"
   ]
  },
  {
   "cell_type": "code",
   "execution_count": 7,
   "metadata": {
    "scrolled": false
   },
   "outputs": [
    {
     "name": "stdout",
     "output_type": "stream",
     "text": [
      "User Guide: https://github.com/keplergl/kepler.gl/blob/master/docs/keplergl-jupyter/user-guide.md\n"
     ]
    },
    {
     "data": {
      "application/vnd.jupyter.widget-view+json": {
       "model_id": "87c7c68532294ef58a597d0c081167c7",
       "version_major": 2,
       "version_minor": 0
      },
      "text/plain": [
       "KeplerGl(data={'Strom Im-/Export': {'index': ['2017-01-01 00:00:00', '2017-01-01 00:00:00', '2017-01-01 00:00:…"
      ]
     },
     "metadata": {},
     "output_type": "display_data"
    }
   ],
   "source": [
    "'''\n",
    "Create map\n",
    "'''\n",
    "\n",
    "german_electricity_map = KeplerGl(height=500)\n",
    "german_electricity_map.add_data(data=map_data, name='Strom Im-/Export')\n",
    "german_electricity_map"
   ]
  },
  {
   "cell_type": "code",
   "execution_count": 8,
   "metadata": {},
   "outputs": [
    {
     "name": "stdout",
     "output_type": "stream",
     "text": [
      "Map saved to german_electricity_map_168H.html!\n"
     ]
    }
   ],
   "source": [
    "'''\n",
    "Save config and save map as html\n",
    "'''\n",
    "\n",
    "map_config = german_electricity_map.config\n",
    "german_electricity_map.save_to_html(file_name='german_electricity_map_' + RESAMPLE_INTERVAL + '.html')\n"
   ]
  },
  {
   "cell_type": "code",
   "execution_count": 40,
   "metadata": {
    "scrolled": false
   },
   "outputs": [
    {
     "name": "stdout",
     "output_type": "stream",
     "text": [
      "User Guide: https://github.com/keplergl/kepler.gl/blob/master/docs/keplergl-jupyter/user-guide.md\n"
     ]
    },
    {
     "data": {
      "application/vnd.jupyter.widget-view+json": {
       "model_id": "4878a99ca14b49f49a5eee56b1abdde2",
       "version_major": 2,
       "version_minor": 0
      },
      "text/plain": [
       "KeplerGl(config={'version': 'v1', 'config': {'visState': {'filters': [{'dataId': 'Strom Im-/Export', 'id': 'jg…"
      ]
     },
     "metadata": {},
     "output_type": "display_data"
    }
   ],
   "source": [
    "'''\n",
    "Create new map with same config\n",
    "'''\n",
    "\n",
    "german_electricity_map_2 = KeplerGl(height=500, data={\"Strom Im-/Export\": map_data}, config=map_config)\n",
    "german_electricity_map_2"
   ]
  },
  {
   "cell_type": "code",
   "execution_count": 41,
   "metadata": {},
   "outputs": [
    {
     "name": "stdout",
     "output_type": "stream",
     "text": [
      "Map saved to german_electricity_map_1H.html!\n"
     ]
    }
   ],
   "source": [
    "german_electricity_map_2.save_to_html(file_name='german_electricity_map_' + RESAMPLE_INTERVAL + '.html')"
   ]
  },
  {
   "cell_type": "code",
   "execution_count": null,
   "metadata": {},
   "outputs": [],
   "source": []
  }
 ],
 "metadata": {
  "kernelspec": {
   "display_name": "Python 3",
   "language": "python",
   "name": "python3"
  },
  "language_info": {
   "codemirror_mode": {
    "name": "ipython",
    "version": 3
   },
   "file_extension": ".py",
   "mimetype": "text/x-python",
   "name": "python",
   "nbconvert_exporter": "python",
   "pygments_lexer": "ipython3",
   "version": "3.7.4"
  }
 },
 "nbformat": 4,
 "nbformat_minor": 2
}
